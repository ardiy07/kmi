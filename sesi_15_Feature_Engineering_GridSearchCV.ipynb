{
  "nbformat": 4,
  "nbformat_minor": 0,
  "metadata": {
    "colab": {
      "provenance": []
    },
    "kernelspec": {
      "name": "python3",
      "display_name": "Python 3"
    },
    "language_info": {
      "name": "python"
    }
  },
  "cells": [
    {
      "cell_type": "code",
      "execution_count": null,
      "metadata": {
        "colab": {
          "base_uri": "https://localhost:8080/"
        },
        "id": "ttjVqi9PX3qs",
        "outputId": "a5c0eeb7-7ffc-43cb-c1db-71c6ff36824e"
      },
      "outputs": [
        {
          "output_type": "stream",
          "name": "stdout",
          "text": [
            "              precision    recall  f1-score   support\n",
            "\n",
            "           0       0.95      0.85      0.90        66\n",
            "           1       0.91      0.97      0.94       105\n",
            "\n",
            "    accuracy                           0.92       171\n",
            "   macro avg       0.93      0.91      0.92       171\n",
            "weighted avg       0.93      0.92      0.92       171\n",
            "\n"
          ]
        }
      ],
      "source": [
        "#import all necessary libraries\n",
        "import sklearn\n",
        "from sklearn.datasets import load_breast_cancer\n",
        "from sklearn.metrics import classification_report, confusion_matrix \n",
        "from sklearn.datasets import load_breast_cancer \n",
        "from sklearn.svm import SVC \n",
        "from sklearn.model_selection import GridSearchCV, train_test_split \n",
        " \n",
        "#load the dataset and split it into training and testing sets\n",
        "dataset = load_breast_cancer()\n",
        "X=dataset.data\n",
        "Y=dataset.target\n",
        "X_train, X_test, y_train, y_test = train_test_split( \n",
        "                        X,Y,test_size = 0.30, random_state = 101) \n",
        "# train the model on train set without using GridSearchCV \n",
        "model = SVC() \n",
        "model.fit(X_train, y_train) \n",
        "   \n",
        "# print prediction results \n",
        "predictions = model.predict(X_test) \n",
        "print(classification_report(y_test, predictions)) "
      ]
    },
    {
      "cell_type": "code",
      "source": [
        "# defining parameter range \n",
        "param_grid = {'C': [0.1, 1, 10, 100],  \n",
        "              'gamma': [1, 0.1, 0.01, 0.001, 0.0001], \n",
        "              'gamma':['scale', 'auto'],\n",
        "              'kernel': ['linear']}  \n",
        "   \n",
        "grid = GridSearchCV(SVC(), param_grid, refit = True, verbose = 3,n_jobs=-1) \n",
        "   \n",
        "# fitting the model for grid search \n",
        "grid.fit(X_train, y_train) \n",
        " \n",
        "# print best parameter after tuning \n",
        "print(grid.best_params_) \n",
        "grid_predictions = grid.predict(X_test) \n",
        "   \n",
        "# print classification report \n",
        "print(classification_report(y_test, grid_predictions)) "
      ],
      "metadata": {
        "colab": {
          "base_uri": "https://localhost:8080/"
        },
        "id": "2X-H4zfrX_10",
        "outputId": "233b3f9b-0383-4595-d05f-9c70ef4a8736"
      },
      "execution_count": null,
      "outputs": [
        {
          "output_type": "stream",
          "name": "stdout",
          "text": [
            "Fitting 5 folds for each of 8 candidates, totalling 40 fits\n",
            "{'C': 100, 'gamma': 'scale', 'kernel': 'linear'}\n",
            "              precision    recall  f1-score   support\n",
            "\n",
            "           0       0.97      0.91      0.94        66\n",
            "           1       0.94      0.98      0.96       105\n",
            "\n",
            "    accuracy                           0.95       171\n",
            "   macro avg       0.96      0.95      0.95       171\n",
            "weighted avg       0.95      0.95      0.95       171\n",
            "\n"
          ]
        }
      ]
    },
    {
      "cell_type": "code",
      "source": [],
      "metadata": {
        "id": "iVSypTa6YDvr"
      },
      "execution_count": null,
      "outputs": []
    }
  ]
}